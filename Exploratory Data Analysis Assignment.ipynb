{
 "cells": [
  {
   "cell_type": "markdown",
   "id": "939b4d8a",
   "metadata": {},
   "source": [
    "# Data Exploration Assignment"
   ]
  },
  {
   "cell_type": "code",
   "execution_count": 3,
   "id": "ef19f233",
   "metadata": {},
   "outputs": [],
   "source": [
    "import pandas as pd\n",
    "import matplotlib.pyplot as plt\n",
    "import seaborn as sns"
   ]
  },
  {
   "cell_type": "code",
   "execution_count": 5,
   "id": "b5ac25f2",
   "metadata": {},
   "outputs": [
    {
     "data": {
      "text/html": [
       "<div>\n",
       "<style scoped>\n",
       "    .dataframe tbody tr th:only-of-type {\n",
       "        vertical-align: middle;\n",
       "    }\n",
       "\n",
       "    .dataframe tbody tr th {\n",
       "        vertical-align: top;\n",
       "    }\n",
       "\n",
       "    .dataframe thead th {\n",
       "        text-align: right;\n",
       "    }\n",
       "</style>\n",
       "<table border=\"1\" class=\"dataframe\">\n",
       "  <thead>\n",
       "    <tr style=\"text-align: right;\">\n",
       "      <th></th>\n",
       "      <th>order_id</th>\n",
       "      <th>day</th>\n",
       "      <th>time</th>\n",
       "      <th>size</th>\n",
       "      <th>smoker</th>\n",
       "      <th>sex</th>\n",
       "      <th>total_bill</th>\n",
       "      <th>tip</th>\n",
       "    </tr>\n",
       "  </thead>\n",
       "  <tbody>\n",
       "    <tr>\n",
       "      <th>0</th>\n",
       "      <td>1</td>\n",
       "      <td>Sun</td>\n",
       "      <td>Dinner</td>\n",
       "      <td>2</td>\n",
       "      <td>No</td>\n",
       "      <td>Female</td>\n",
       "      <td>16.99</td>\n",
       "      <td>1.01</td>\n",
       "    </tr>\n",
       "    <tr>\n",
       "      <th>1</th>\n",
       "      <td>2</td>\n",
       "      <td>Sun</td>\n",
       "      <td>Dinner</td>\n",
       "      <td>3</td>\n",
       "      <td>No</td>\n",
       "      <td>Male</td>\n",
       "      <td>10.34</td>\n",
       "      <td>1.66</td>\n",
       "    </tr>\n",
       "    <tr>\n",
       "      <th>2</th>\n",
       "      <td>3</td>\n",
       "      <td>Sun</td>\n",
       "      <td>Dinner</td>\n",
       "      <td>3</td>\n",
       "      <td>No</td>\n",
       "      <td>Male</td>\n",
       "      <td>21.01</td>\n",
       "      <td>3.50</td>\n",
       "    </tr>\n",
       "    <tr>\n",
       "      <th>3</th>\n",
       "      <td>4</td>\n",
       "      <td>Sun</td>\n",
       "      <td>Dinner</td>\n",
       "      <td>2</td>\n",
       "      <td>No</td>\n",
       "      <td>Male</td>\n",
       "      <td>23.68</td>\n",
       "      <td>3.31</td>\n",
       "    </tr>\n",
       "    <tr>\n",
       "      <th>4</th>\n",
       "      <td>5</td>\n",
       "      <td>Sun</td>\n",
       "      <td>Dinner</td>\n",
       "      <td>4</td>\n",
       "      <td>No</td>\n",
       "      <td>Female</td>\n",
       "      <td>24.59</td>\n",
       "      <td>3.61</td>\n",
       "    </tr>\n",
       "    <tr>\n",
       "      <th>...</th>\n",
       "      <td>...</td>\n",
       "      <td>...</td>\n",
       "      <td>...</td>\n",
       "      <td>...</td>\n",
       "      <td>...</td>\n",
       "      <td>...</td>\n",
       "      <td>...</td>\n",
       "      <td>...</td>\n",
       "    </tr>\n",
       "    <tr>\n",
       "      <th>239</th>\n",
       "      <td>240</td>\n",
       "      <td>Sat</td>\n",
       "      <td>Dinner</td>\n",
       "      <td>3</td>\n",
       "      <td>No</td>\n",
       "      <td>Male</td>\n",
       "      <td>29.03</td>\n",
       "      <td>5.92</td>\n",
       "    </tr>\n",
       "    <tr>\n",
       "      <th>240</th>\n",
       "      <td>241</td>\n",
       "      <td>Sat</td>\n",
       "      <td>Dinner</td>\n",
       "      <td>2</td>\n",
       "      <td>Yes</td>\n",
       "      <td>Female</td>\n",
       "      <td>27.18</td>\n",
       "      <td>2.00</td>\n",
       "    </tr>\n",
       "    <tr>\n",
       "      <th>241</th>\n",
       "      <td>242</td>\n",
       "      <td>Sat</td>\n",
       "      <td>Dinner</td>\n",
       "      <td>2</td>\n",
       "      <td>Yes</td>\n",
       "      <td>Male</td>\n",
       "      <td>22.67</td>\n",
       "      <td>2.00</td>\n",
       "    </tr>\n",
       "    <tr>\n",
       "      <th>242</th>\n",
       "      <td>243</td>\n",
       "      <td>Sat</td>\n",
       "      <td>Dinner</td>\n",
       "      <td>2</td>\n",
       "      <td>No</td>\n",
       "      <td>Male</td>\n",
       "      <td>17.82</td>\n",
       "      <td>1.75</td>\n",
       "    </tr>\n",
       "    <tr>\n",
       "      <th>243</th>\n",
       "      <td>244</td>\n",
       "      <td>Thur</td>\n",
       "      <td>Dinner</td>\n",
       "      <td>2</td>\n",
       "      <td>No</td>\n",
       "      <td>Female</td>\n",
       "      <td>18.78</td>\n",
       "      <td>3.00</td>\n",
       "    </tr>\n",
       "  </tbody>\n",
       "</table>\n",
       "<p>244 rows × 8 columns</p>\n",
       "</div>"
      ],
      "text/plain": [
       "     order_id   day    time  size smoker     sex  total_bill   tip\n",
       "0           1   Sun  Dinner     2     No  Female       16.99  1.01\n",
       "1           2   Sun  Dinner     3     No    Male       10.34  1.66\n",
       "2           3   Sun  Dinner     3     No    Male       21.01  3.50\n",
       "3           4   Sun  Dinner     2     No    Male       23.68  3.31\n",
       "4           5   Sun  Dinner     4     No  Female       24.59  3.61\n",
       "..        ...   ...     ...   ...    ...     ...         ...   ...\n",
       "239       240   Sat  Dinner     3     No    Male       29.03  5.92\n",
       "240       241   Sat  Dinner     2    Yes  Female       27.18  2.00\n",
       "241       242   Sat  Dinner     2    Yes    Male       22.67  2.00\n",
       "242       243   Sat  Dinner     2     No    Male       17.82  1.75\n",
       "243       244  Thur  Dinner     2     No  Female       18.78  3.00\n",
       "\n",
       "[244 rows x 8 columns]"
      ]
     },
     "execution_count": 5,
     "metadata": {},
     "output_type": "execute_result"
    }
   ],
   "source": [
    "tips = pd.read_csv(r'C:\\Users\\Admin\\Desktop\\tips.csv')  # To load the data\n",
    "tips"
   ]
  },
  {
   "cell_type": "code",
   "execution_count": 6,
   "id": "2be0fc14",
   "metadata": {},
   "outputs": [
    {
     "data": {
      "text/plain": [
       "(244, 8)"
      ]
     },
     "execution_count": 6,
     "metadata": {},
     "output_type": "execute_result"
    }
   ],
   "source": [
    "tips.shape   # To know the dimension of the data"
   ]
  },
  {
   "cell_type": "code",
   "execution_count": 155,
   "id": "b0e3f8de",
   "metadata": {},
   "outputs": [
    {
     "data": {
      "text/html": [
       "<div>\n",
       "<style scoped>\n",
       "    .dataframe tbody tr th:only-of-type {\n",
       "        vertical-align: middle;\n",
       "    }\n",
       "\n",
       "    .dataframe tbody tr th {\n",
       "        vertical-align: top;\n",
       "    }\n",
       "\n",
       "    .dataframe thead th {\n",
       "        text-align: right;\n",
       "    }\n",
       "</style>\n",
       "<table border=\"1\" class=\"dataframe\">\n",
       "  <thead>\n",
       "    <tr style=\"text-align: right;\">\n",
       "      <th></th>\n",
       "      <th>order_id</th>\n",
       "      <th>day</th>\n",
       "      <th>time</th>\n",
       "      <th>size</th>\n",
       "      <th>smoker</th>\n",
       "      <th>sex</th>\n",
       "      <th>total_bill</th>\n",
       "      <th>tip</th>\n",
       "    </tr>\n",
       "  </thead>\n",
       "  <tbody>\n",
       "    <tr>\n",
       "      <th>0</th>\n",
       "      <td>1</td>\n",
       "      <td>Sun</td>\n",
       "      <td>Dinner</td>\n",
       "      <td>2</td>\n",
       "      <td>No</td>\n",
       "      <td>Female</td>\n",
       "      <td>16.99</td>\n",
       "      <td>1.01</td>\n",
       "    </tr>\n",
       "    <tr>\n",
       "      <th>1</th>\n",
       "      <td>2</td>\n",
       "      <td>Sun</td>\n",
       "      <td>Dinner</td>\n",
       "      <td>3</td>\n",
       "      <td>No</td>\n",
       "      <td>Male</td>\n",
       "      <td>10.34</td>\n",
       "      <td>1.66</td>\n",
       "    </tr>\n",
       "    <tr>\n",
       "      <th>2</th>\n",
       "      <td>3</td>\n",
       "      <td>Sun</td>\n",
       "      <td>Dinner</td>\n",
       "      <td>3</td>\n",
       "      <td>No</td>\n",
       "      <td>Male</td>\n",
       "      <td>21.01</td>\n",
       "      <td>3.50</td>\n",
       "    </tr>\n",
       "    <tr>\n",
       "      <th>3</th>\n",
       "      <td>4</td>\n",
       "      <td>Sun</td>\n",
       "      <td>Dinner</td>\n",
       "      <td>2</td>\n",
       "      <td>No</td>\n",
       "      <td>Male</td>\n",
       "      <td>23.68</td>\n",
       "      <td>3.31</td>\n",
       "    </tr>\n",
       "    <tr>\n",
       "      <th>4</th>\n",
       "      <td>5</td>\n",
       "      <td>Sun</td>\n",
       "      <td>Dinner</td>\n",
       "      <td>4</td>\n",
       "      <td>No</td>\n",
       "      <td>Female</td>\n",
       "      <td>24.59</td>\n",
       "      <td>3.61</td>\n",
       "    </tr>\n",
       "    <tr>\n",
       "      <th>5</th>\n",
       "      <td>6</td>\n",
       "      <td>Sun</td>\n",
       "      <td>Dinner</td>\n",
       "      <td>4</td>\n",
       "      <td>No</td>\n",
       "      <td>Male</td>\n",
       "      <td>25.29</td>\n",
       "      <td>4.71</td>\n",
       "    </tr>\n",
       "    <tr>\n",
       "      <th>6</th>\n",
       "      <td>7</td>\n",
       "      <td>Sun</td>\n",
       "      <td>Dinner</td>\n",
       "      <td>2</td>\n",
       "      <td>No</td>\n",
       "      <td>Male</td>\n",
       "      <td>8.77</td>\n",
       "      <td>2.00</td>\n",
       "    </tr>\n",
       "    <tr>\n",
       "      <th>7</th>\n",
       "      <td>8</td>\n",
       "      <td>Sun</td>\n",
       "      <td>Dinner</td>\n",
       "      <td>4</td>\n",
       "      <td>No</td>\n",
       "      <td>Male</td>\n",
       "      <td>26.88</td>\n",
       "      <td>3.12</td>\n",
       "    </tr>\n",
       "    <tr>\n",
       "      <th>8</th>\n",
       "      <td>9</td>\n",
       "      <td>Sun</td>\n",
       "      <td>Dinner</td>\n",
       "      <td>2</td>\n",
       "      <td>No</td>\n",
       "      <td>Male</td>\n",
       "      <td>15.04</td>\n",
       "      <td>1.96</td>\n",
       "    </tr>\n",
       "    <tr>\n",
       "      <th>9</th>\n",
       "      <td>10</td>\n",
       "      <td>Sun</td>\n",
       "      <td>Dinner</td>\n",
       "      <td>2</td>\n",
       "      <td>No</td>\n",
       "      <td>Male</td>\n",
       "      <td>14.78</td>\n",
       "      <td>3.23</td>\n",
       "    </tr>\n",
       "  </tbody>\n",
       "</table>\n",
       "</div>"
      ],
      "text/plain": [
       "   order_id  day    time  size smoker     sex  total_bill   tip\n",
       "0         1  Sun  Dinner     2     No  Female       16.99  1.01\n",
       "1         2  Sun  Dinner     3     No    Male       10.34  1.66\n",
       "2         3  Sun  Dinner     3     No    Male       21.01  3.50\n",
       "3         4  Sun  Dinner     2     No    Male       23.68  3.31\n",
       "4         5  Sun  Dinner     4     No  Female       24.59  3.61\n",
       "5         6  Sun  Dinner     4     No    Male       25.29  4.71\n",
       "6         7  Sun  Dinner     2     No    Male        8.77  2.00\n",
       "7         8  Sun  Dinner     4     No    Male       26.88  3.12\n",
       "8         9  Sun  Dinner     2     No    Male       15.04  1.96\n",
       "9        10  Sun  Dinner     2     No    Male       14.78  3.23"
      ]
     },
     "execution_count": 155,
     "metadata": {},
     "output_type": "execute_result"
    }
   ],
   "source": [
    "tips.head(10)    # To find check the first 1o rows"
   ]
  },
  {
   "cell_type": "code",
   "execution_count": 6,
   "id": "7d49b314",
   "metadata": {},
   "outputs": [
    {
     "name": "stdout",
     "output_type": "stream",
     "text": [
      "<class 'pandas.core.frame.DataFrame'>\n",
      "RangeIndex: 244 entries, 0 to 243\n",
      "Data columns (total 8 columns):\n",
      " #   Column      Non-Null Count  Dtype  \n",
      "---  ------      --------------  -----  \n",
      " 0   order_id    244 non-null    int64  \n",
      " 1   day         244 non-null    object \n",
      " 2   time        244 non-null    object \n",
      " 3   size        244 non-null    int64  \n",
      " 4   smoker      244 non-null    object \n",
      " 5   sex         244 non-null    object \n",
      " 6   total_bill  244 non-null    float64\n",
      " 7   tip         244 non-null    float64\n",
      "dtypes: float64(2), int64(2), object(4)\n",
      "memory usage: 15.4+ KB\n"
     ]
    }
   ],
   "source": [
    "tips.info()  # To find the data types"
   ]
  },
  {
   "cell_type": "code",
   "execution_count": 11,
   "id": "ac321c10",
   "metadata": {},
   "outputs": [
    {
     "data": {
      "text/html": [
       "<div>\n",
       "<style scoped>\n",
       "    .dataframe tbody tr th:only-of-type {\n",
       "        vertical-align: middle;\n",
       "    }\n",
       "\n",
       "    .dataframe tbody tr th {\n",
       "        vertical-align: top;\n",
       "    }\n",
       "\n",
       "    .dataframe thead th {\n",
       "        text-align: right;\n",
       "    }\n",
       "</style>\n",
       "<table border=\"1\" class=\"dataframe\">\n",
       "  <thead>\n",
       "    <tr style=\"text-align: right;\">\n",
       "      <th></th>\n",
       "      <th>order_id</th>\n",
       "      <th>day</th>\n",
       "      <th>time</th>\n",
       "      <th>size</th>\n",
       "      <th>smoker</th>\n",
       "      <th>sex</th>\n",
       "      <th>total_bill</th>\n",
       "      <th>tip</th>\n",
       "    </tr>\n",
       "  </thead>\n",
       "  <tbody>\n",
       "    <tr>\n",
       "      <th>162</th>\n",
       "      <td>163</td>\n",
       "      <td>Sun</td>\n",
       "      <td>Dinner</td>\n",
       "      <td>3</td>\n",
       "      <td>No</td>\n",
       "      <td>Female</td>\n",
       "      <td>16.21</td>\n",
       "      <td>2.00</td>\n",
       "    </tr>\n",
       "    <tr>\n",
       "      <th>63</th>\n",
       "      <td>64</td>\n",
       "      <td>Sat</td>\n",
       "      <td>Dinner</td>\n",
       "      <td>4</td>\n",
       "      <td>Yes</td>\n",
       "      <td>Male</td>\n",
       "      <td>18.29</td>\n",
       "      <td>3.76</td>\n",
       "    </tr>\n",
       "    <tr>\n",
       "      <th>180</th>\n",
       "      <td>181</td>\n",
       "      <td>Sun</td>\n",
       "      <td>Dinner</td>\n",
       "      <td>4</td>\n",
       "      <td>Yes</td>\n",
       "      <td>Male</td>\n",
       "      <td>34.65</td>\n",
       "      <td>3.68</td>\n",
       "    </tr>\n",
       "    <tr>\n",
       "      <th>58</th>\n",
       "      <td>59</td>\n",
       "      <td>Sat</td>\n",
       "      <td>Dinner</td>\n",
       "      <td>2</td>\n",
       "      <td>Yes</td>\n",
       "      <td>Male</td>\n",
       "      <td>11.24</td>\n",
       "      <td>1.76</td>\n",
       "    </tr>\n",
       "    <tr>\n",
       "      <th>89</th>\n",
       "      <td>90</td>\n",
       "      <td>Thur</td>\n",
       "      <td>Lunch</td>\n",
       "      <td>2</td>\n",
       "      <td>No</td>\n",
       "      <td>Male</td>\n",
       "      <td>21.16</td>\n",
       "      <td>3.00</td>\n",
       "    </tr>\n",
       "    <tr>\n",
       "      <th>161</th>\n",
       "      <td>162</td>\n",
       "      <td>Sun</td>\n",
       "      <td>Dinner</td>\n",
       "      <td>2</td>\n",
       "      <td>No</td>\n",
       "      <td>Male</td>\n",
       "      <td>12.66</td>\n",
       "      <td>2.50</td>\n",
       "    </tr>\n",
       "    <tr>\n",
       "      <th>15</th>\n",
       "      <td>16</td>\n",
       "      <td>Sun</td>\n",
       "      <td>Dinner</td>\n",
       "      <td>2</td>\n",
       "      <td>No</td>\n",
       "      <td>Male</td>\n",
       "      <td>21.58</td>\n",
       "      <td>3.92</td>\n",
       "    </tr>\n",
       "    <tr>\n",
       "      <th>112</th>\n",
       "      <td>113</td>\n",
       "      <td>Sun</td>\n",
       "      <td>Dinner</td>\n",
       "      <td>3</td>\n",
       "      <td>No</td>\n",
       "      <td>Male</td>\n",
       "      <td>38.07</td>\n",
       "      <td>4.00</td>\n",
       "    </tr>\n",
       "    <tr>\n",
       "      <th>138</th>\n",
       "      <td>139</td>\n",
       "      <td>Thur</td>\n",
       "      <td>Lunch</td>\n",
       "      <td>2</td>\n",
       "      <td>Yes</td>\n",
       "      <td>Male</td>\n",
       "      <td>16.00</td>\n",
       "      <td>2.00</td>\n",
       "    </tr>\n",
       "    <tr>\n",
       "      <th>24</th>\n",
       "      <td>25</td>\n",
       "      <td>Sat</td>\n",
       "      <td>Dinner</td>\n",
       "      <td>2</td>\n",
       "      <td>No</td>\n",
       "      <td>Male</td>\n",
       "      <td>19.82</td>\n",
       "      <td>3.18</td>\n",
       "    </tr>\n",
       "  </tbody>\n",
       "</table>\n",
       "</div>"
      ],
      "text/plain": [
       "     order_id   day    time  size smoker     sex  total_bill   tip\n",
       "162       163   Sun  Dinner     3     No  Female       16.21  2.00\n",
       "63         64   Sat  Dinner     4    Yes    Male       18.29  3.76\n",
       "180       181   Sun  Dinner     4    Yes    Male       34.65  3.68\n",
       "58         59   Sat  Dinner     2    Yes    Male       11.24  1.76\n",
       "89         90  Thur   Lunch     2     No    Male       21.16  3.00\n",
       "161       162   Sun  Dinner     2     No    Male       12.66  2.50\n",
       "15         16   Sun  Dinner     2     No    Male       21.58  3.92\n",
       "112       113   Sun  Dinner     3     No    Male       38.07  4.00\n",
       "138       139  Thur   Lunch     2    Yes    Male       16.00  2.00\n",
       "24         25   Sat  Dinner     2     No    Male       19.82  3.18"
      ]
     },
     "execution_count": 11,
     "metadata": {},
     "output_type": "execute_result"
    }
   ],
   "source": [
    "\n",
    "tips.sample(10)   # To random sample 10 rows"
   ]
  },
  {
   "cell_type": "code",
   "execution_count": 6,
   "id": "729275eb",
   "metadata": {},
   "outputs": [
    {
     "data": {
      "text/plain": [
       "order_id      0\n",
       "day           0\n",
       "time          0\n",
       "size          0\n",
       "smoker        0\n",
       "sex           0\n",
       "total_bill    0\n",
       "tip           0\n",
       "dtype: int64"
      ]
     },
     "execution_count": 6,
     "metadata": {},
     "output_type": "execute_result"
    }
   ],
   "source": [
    "tips.isna().sum()  #  To find the missing values"
   ]
  },
  {
   "cell_type": "code",
   "execution_count": 14,
   "id": "e270faaa",
   "metadata": {},
   "outputs": [
    {
     "data": {
      "text/html": [
       "<div>\n",
       "<style scoped>\n",
       "    .dataframe tbody tr th:only-of-type {\n",
       "        vertical-align: middle;\n",
       "    }\n",
       "\n",
       "    .dataframe tbody tr th {\n",
       "        vertical-align: top;\n",
       "    }\n",
       "\n",
       "    .dataframe thead th {\n",
       "        text-align: right;\n",
       "    }\n",
       "</style>\n",
       "<table border=\"1\" class=\"dataframe\">\n",
       "  <thead>\n",
       "    <tr style=\"text-align: right;\">\n",
       "      <th></th>\n",
       "      <th>order_id</th>\n",
       "      <th>day</th>\n",
       "      <th>time</th>\n",
       "      <th>size</th>\n",
       "      <th>smoker</th>\n",
       "      <th>sex</th>\n",
       "      <th>total_bill</th>\n",
       "      <th>tip</th>\n",
       "    </tr>\n",
       "  </thead>\n",
       "  <tbody>\n",
       "    <tr>\n",
       "      <th>count</th>\n",
       "      <td>244.000000</td>\n",
       "      <td>244</td>\n",
       "      <td>244</td>\n",
       "      <td>244.000000</td>\n",
       "      <td>244</td>\n",
       "      <td>244</td>\n",
       "      <td>244.000000</td>\n",
       "      <td>244.000000</td>\n",
       "    </tr>\n",
       "    <tr>\n",
       "      <th>unique</th>\n",
       "      <td>NaN</td>\n",
       "      <td>4</td>\n",
       "      <td>2</td>\n",
       "      <td>NaN</td>\n",
       "      <td>2</td>\n",
       "      <td>2</td>\n",
       "      <td>NaN</td>\n",
       "      <td>NaN</td>\n",
       "    </tr>\n",
       "    <tr>\n",
       "      <th>top</th>\n",
       "      <td>NaN</td>\n",
       "      <td>Sat</td>\n",
       "      <td>Dinner</td>\n",
       "      <td>NaN</td>\n",
       "      <td>No</td>\n",
       "      <td>Male</td>\n",
       "      <td>NaN</td>\n",
       "      <td>NaN</td>\n",
       "    </tr>\n",
       "    <tr>\n",
       "      <th>freq</th>\n",
       "      <td>NaN</td>\n",
       "      <td>87</td>\n",
       "      <td>176</td>\n",
       "      <td>NaN</td>\n",
       "      <td>151</td>\n",
       "      <td>157</td>\n",
       "      <td>NaN</td>\n",
       "      <td>NaN</td>\n",
       "    </tr>\n",
       "    <tr>\n",
       "      <th>mean</th>\n",
       "      <td>122.500000</td>\n",
       "      <td>NaN</td>\n",
       "      <td>NaN</td>\n",
       "      <td>2.569672</td>\n",
       "      <td>NaN</td>\n",
       "      <td>NaN</td>\n",
       "      <td>19.785943</td>\n",
       "      <td>2.998279</td>\n",
       "    </tr>\n",
       "    <tr>\n",
       "      <th>std</th>\n",
       "      <td>70.580923</td>\n",
       "      <td>NaN</td>\n",
       "      <td>NaN</td>\n",
       "      <td>0.951100</td>\n",
       "      <td>NaN</td>\n",
       "      <td>NaN</td>\n",
       "      <td>8.902412</td>\n",
       "      <td>1.383638</td>\n",
       "    </tr>\n",
       "    <tr>\n",
       "      <th>min</th>\n",
       "      <td>1.000000</td>\n",
       "      <td>NaN</td>\n",
       "      <td>NaN</td>\n",
       "      <td>1.000000</td>\n",
       "      <td>NaN</td>\n",
       "      <td>NaN</td>\n",
       "      <td>3.070000</td>\n",
       "      <td>1.000000</td>\n",
       "    </tr>\n",
       "    <tr>\n",
       "      <th>25%</th>\n",
       "      <td>61.750000</td>\n",
       "      <td>NaN</td>\n",
       "      <td>NaN</td>\n",
       "      <td>2.000000</td>\n",
       "      <td>NaN</td>\n",
       "      <td>NaN</td>\n",
       "      <td>13.347500</td>\n",
       "      <td>2.000000</td>\n",
       "    </tr>\n",
       "    <tr>\n",
       "      <th>50%</th>\n",
       "      <td>122.500000</td>\n",
       "      <td>NaN</td>\n",
       "      <td>NaN</td>\n",
       "      <td>2.000000</td>\n",
       "      <td>NaN</td>\n",
       "      <td>NaN</td>\n",
       "      <td>17.795000</td>\n",
       "      <td>2.900000</td>\n",
       "    </tr>\n",
       "    <tr>\n",
       "      <th>75%</th>\n",
       "      <td>183.250000</td>\n",
       "      <td>NaN</td>\n",
       "      <td>NaN</td>\n",
       "      <td>3.000000</td>\n",
       "      <td>NaN</td>\n",
       "      <td>NaN</td>\n",
       "      <td>24.127500</td>\n",
       "      <td>3.562500</td>\n",
       "    </tr>\n",
       "    <tr>\n",
       "      <th>max</th>\n",
       "      <td>244.000000</td>\n",
       "      <td>NaN</td>\n",
       "      <td>NaN</td>\n",
       "      <td>6.000000</td>\n",
       "      <td>NaN</td>\n",
       "      <td>NaN</td>\n",
       "      <td>50.810000</td>\n",
       "      <td>10.000000</td>\n",
       "    </tr>\n",
       "  </tbody>\n",
       "</table>\n",
       "</div>"
      ],
      "text/plain": [
       "          order_id  day    time        size smoker   sex  total_bill  \\\n",
       "count   244.000000  244     244  244.000000    244   244  244.000000   \n",
       "unique         NaN    4       2         NaN      2     2         NaN   \n",
       "top            NaN  Sat  Dinner         NaN     No  Male         NaN   \n",
       "freq           NaN   87     176         NaN    151   157         NaN   \n",
       "mean    122.500000  NaN     NaN    2.569672    NaN   NaN   19.785943   \n",
       "std      70.580923  NaN     NaN    0.951100    NaN   NaN    8.902412   \n",
       "min       1.000000  NaN     NaN    1.000000    NaN   NaN    3.070000   \n",
       "25%      61.750000  NaN     NaN    2.000000    NaN   NaN   13.347500   \n",
       "50%     122.500000  NaN     NaN    2.000000    NaN   NaN   17.795000   \n",
       "75%     183.250000  NaN     NaN    3.000000    NaN   NaN   24.127500   \n",
       "max     244.000000  NaN     NaN    6.000000    NaN   NaN   50.810000   \n",
       "\n",
       "               tip  \n",
       "count   244.000000  \n",
       "unique         NaN  \n",
       "top            NaN  \n",
       "freq           NaN  \n",
       "mean      2.998279  \n",
       "std       1.383638  \n",
       "min       1.000000  \n",
       "25%       2.000000  \n",
       "50%       2.900000  \n",
       "75%       3.562500  \n",
       "max      10.000000  "
      ]
     },
     "execution_count": 14,
     "metadata": {},
     "output_type": "execute_result"
    }
   ],
   "source": [
    "tips.describe(include = 'all')   # To find descriptive statistics"
   ]
  },
  {
   "cell_type": "code",
   "execution_count": 9,
   "id": "c1f9b73e",
   "metadata": {},
   "outputs": [
    {
     "data": {
      "text/plain": [
       "0"
      ]
     },
     "execution_count": 9,
     "metadata": {},
     "output_type": "execute_result"
    }
   ],
   "source": [
    "tips.duplicated().sum()   # To check duplicates"
   ]
  },
  {
   "cell_type": "markdown",
   "id": "661f272f",
   "metadata": {},
   "source": [
    "# Q2 OVERVIEW OF THE DATASET"
   ]
  },
  {
   "cell_type": "code",
   "execution_count": null,
   "id": "5438c2c9",
   "metadata": {},
   "outputs": [],
   "source": [
    "There are 244 rows and 8 columns in this dataset. \n",
    "The chef kitchen opens 4 days in a week during lunch and dinner time (2 unique time). Their customers have 2 unique sex\n",
    "(male and female) with 2 unique smokers (people who smoke and those who do not). Saturday is the top day - their busiest day \n",
    "with  87 orders/sales, dinner is the top time and it occurs 176 times, meaning morecustomers prefer to have their dinner at \n",
    "their kitchen. They are 157 male out of their customers and 151 of them do not smoke.\n",
    "The maximum bill paid was $50.8 and the highest tip collected was $10 with 6 people at the table(size). On the other hand, the \n",
    "minimum customer(size) at the table was 1 with the least tip of $1 collected for minimum bill of $3.07.\n",
    "75% upper quartile which reperesnts 75% of the total order made and it was $183.3 with $24.13 bill paid and $3.6 tip collected.\n",
    "25% percentile reperesents 25% of the order made which was 61.75 with $13.35 bills paid and $2 tip collected while 2 customers \n",
    "were at the table.\n",
    "\n",
    "The 50% of the total order is 122.5, 2 people at the table, $17.795 bill paid and $2.9 tip taken.\n",
    "\n",
    "The average order_id made was 122.5 with the customer size of 2.57 and total bill of $19.79 with $3 tip collected."
   ]
  },
  {
   "cell_type": "markdown",
   "id": "9f535594",
   "metadata": {},
   "source": [
    " # Q3 DATA EXPLORATION"
   ]
  },
  {
   "cell_type": "code",
   "execution_count": 10,
   "id": "9c4851c5",
   "metadata": {},
   "outputs": [
    {
     "data": {
      "image/png": "[encoded data removed]",
      "text/plain": [
       "<Figure size 432x288 with 1 Axes>"
      ]
     },
     "metadata": {
      "needs_background": "light"
     },
     "output_type": "display_data"
    }
   ],
   "source": [
    "import matplotlib.pyplot as plt\n",
    "import seaborn as sns\n",
    "\n",
    "sns.boxplot(data = tips, x = \"order_id\")\n",
    "plt.title(\"Boxplot of the Order Made From The Chef's Kitchen\")\n",
    "plt.xlabel(\"Order_id\")\n",
    "plt.ylabel(\"Frequency\")\n",
    "plt.show()\n",
    "    "
   ]
  },
  {
   "cell_type": "markdown",
   "id": "ce971041",
   "metadata": {},
   "source": [
    "  PLOT OF NUMERICAL VARIABLE"
   ]
  },
  {
   "cell_type": "code",
   "execution_count": 70,
   "id": "c5511a3e",
   "metadata": {},
   "outputs": [
    {
     "data": {
      "text/plain": [
       "count    244.000000\n",
       "mean     122.500000\n",
       "std       70.580923\n",
       "min        1.000000\n",
       "25%       61.750000\n",
       "50%      122.500000\n",
       "75%      183.250000\n",
       "max      244.000000\n",
       "Name: order_id, dtype: float64"
      ]
     },
     "execution_count": 70,
     "metadata": {},
     "output_type": "execute_result"
    }
   ],
   "source": [
    "tips[\"order_id\"].describe() # To know the decriptive statistics of the column \"Order_id\""
   ]
  },
  {
   "cell_type": "markdown",
   "id": "a439eba7",
   "metadata": {},
   "source": [
    "# Insights from the boxplot of the Order_id"
   ]
  },
  {
   "cell_type": "code",
   "execution_count": null,
   "id": "6ad60cf6",
   "metadata": {},
   "outputs": [],
   "source": [
    "...\n",
    "The boxplot has a perfect normal distribution, i.e the mean and the median are equal (122.5) which means 50% of the order made \n",
    "was 122.5.There are no outliers, so the upper whisker is at the maximum value of 244 while the lower whisker is at the minimum \n",
    "value of 1.The upper quarter is at 183.3 meaning, 75% of the order was less or equal to 183.3 and the remaining 25% are \n",
    "above 183.3. While the lower quartile is at 61.8, meaning 25% of the order made were between 1 and 61.8.\n",
    "..."
   ]
  },
  {
   "cell_type": "code",
   "execution_count": 85,
   "id": "a8f3da4d",
   "metadata": {},
   "outputs": [
    {
     "data": {
      "image/png": "[encoded data removed]",
      "text/plain": [
       "<Figure size 432x288 with 1 Axes>"
      ]
     },
     "metadata": {
      "needs_background": "light"
     },
     "output_type": "display_data"
    }
   ],
   "source": [
    "\n",
    "sns.countplot(data = tips, x = \"day\")\n",
    "plt.title(\"Countplot Of The Day\")\n",
    "plt.xlabel(\"day\")\n",
    "plt.ylabel(\"Frequency\")\n",
    "plt.xticks(rotation=90);"
   ]
  },
  {
   "cell_type": "markdown",
   "id": "e04063a4",
   "metadata": {},
   "source": [
    " PLOT OF CATEGORICAL VARIABLE"
   ]
  },
  {
   "cell_type": "code",
   "execution_count": 86,
   "id": "537cd887",
   "metadata": {},
   "outputs": [
    {
     "data": {
      "text/plain": [
       "count     244\n",
       "unique      4\n",
       "top       Sat\n",
       "freq       87\n",
       "Name: day, dtype: object"
      ]
     },
     "execution_count": 86,
     "metadata": {},
     "output_type": "execute_result"
    }
   ],
   "source": [
    "tips[\"day\"].describe()  # To know the decriptive statistics of the colum \"day\""
   ]
  },
  {
   "cell_type": "markdown",
   "id": "4f83777e",
   "metadata": {},
   "source": [
    "# Insights from the countplot of the Day"
   ]
  },
  {
   "cell_type": "code",
   "execution_count": null,
   "id": "2ccc4e9c",
   "metadata": {},
   "outputs": [],
   "source": [
    "...\n",
    "From the countplot, most of the orders were made on Saturday with 87 counts, followed by Sunday and Thursday. Friday has \n",
    "the least count/sales of close to 20. Meaning they sell more on Saturday and it is their busiest day too.\n",
    "...\n"
   ]
  },
  {
   "cell_type": "code",
   "execution_count": 87,
   "id": "e4175dbd",
   "metadata": {},
   "outputs": [
    {
     "data": {
      "image/png": "[encoded data removed]",
      "text/plain": [
       "<Figure size 432x288 with 1 Axes>"
      ]
     },
     "metadata": {
      "needs_background": "light"
     },
     "output_type": "display_data"
    }
   ],
   "source": [
    "\n",
    "sns.countplot(data = tips, x = \"time\")\n",
    "plt.title(\"Countplot Of The Time\")\n",
    "plt.xlabel(\"time\")\n",
    "plt.ylabel(\"Frequency\")\n",
    "plt.xticks(rotation=90);"
   ]
  },
  {
   "cell_type": "markdown",
   "id": "9ebdc53a",
   "metadata": {},
   "source": [
    " PLOT OF CATEGORICAL VARIABLE"
   ]
  },
  {
   "cell_type": "code",
   "execution_count": 88,
   "id": "4a4e2603",
   "metadata": {},
   "outputs": [
    {
     "data": {
      "text/plain": [
       "count        244\n",
       "unique         2\n",
       "top       Dinner\n",
       "freq         176\n",
       "Name: time, dtype: object"
      ]
     },
     "execution_count": 88,
     "metadata": {},
     "output_type": "execute_result"
    }
   ],
   "source": [
    "tips[\"time\"].describe()   # To know the decriptive statistics of the colum \"Time\""
   ]
  },
  {
   "cell_type": "markdown",
   "id": "040f87d7",
   "metadata": {},
   "source": [
    "# Insights from the countplot of the Time"
   ]
  },
  {
   "cell_type": "code",
   "execution_count": null,
   "id": "81e77311",
   "metadata": {},
   "outputs": [],
   "source": [
    "...\n",
    "From the countplot, dinner occurs more with frequecy of 176, meaning more people prefer to order/eat dinner at the chef's \n",
    "kitchen than lunch. They make more money during dinner than lunch. Dinner time is their peak period.\n",
    "..."
   ]
  },
  {
   "cell_type": "code",
   "execution_count": 89,
   "id": "5b2e31b6",
   "metadata": {},
   "outputs": [
    {
     "data": {
      "image/png": "[encoded data removed]",
      "text/plain": [
       "<Figure size 432x288 with 1 Axes>"
      ]
     },
     "metadata": {
      "needs_background": "light"
     },
     "output_type": "display_data"
    }
   ],
   "source": [
    "sns.countplot(data = tips, x = \"smoker\")\n",
    "plt.title(\"Countplot Of The Smoker\")\n",
    "plt.xlabel(\"Smoker\")\n",
    "plt.ylabel(\"Frequency\")\n",
    "plt.xticks(rotation=90);"
   ]
  },
  {
   "cell_type": "markdown",
   "id": "6a68d7fe",
   "metadata": {},
   "source": [
    "   PLOT OF CATEGORICAL VARIABLE"
   ]
  },
  {
   "cell_type": "code",
   "execution_count": 90,
   "id": "aae381c5",
   "metadata": {},
   "outputs": [
    {
     "data": {
      "text/plain": [
       "count     244\n",
       "unique      2\n",
       "top        No\n",
       "freq      151\n",
       "Name: smoker, dtype: object"
      ]
     },
     "execution_count": 90,
     "metadata": {},
     "output_type": "execute_result"
    }
   ],
   "source": [
    "tips[\"smoker\"].describe()  # To know the decriptive statistics of the colum \"smoker\""
   ]
  },
  {
   "cell_type": "markdown",
   "id": "aa1f480c",
   "metadata": {},
   "source": [
    "# Insights from the countplot of smokers"
   ]
  },
  {
   "cell_type": "code",
   "execution_count": null,
   "id": "95552ea3",
   "metadata": {},
   "outputs": [],
   "source": [
    "...\n",
    "151 people who eat and pay bills at this chef's kitchen do not smoke while the rest are smokers.\n",
    "..."
   ]
  },
  {
   "cell_type": "code",
   "execution_count": 118,
   "id": "049dc455",
   "metadata": {},
   "outputs": [
    {
     "data": {
      "image/png": "[encoded data removed]",
      "text/plain": [
       "<Figure size 432x288 with 1 Axes>"
      ]
     },
     "metadata": {
      "needs_background": "light"
     },
     "output_type": "display_data"
    }
   ],
   "source": [
    "sns.countplot(data = tips, x = \"sex\")\n",
    "plt.title(\"Countplot Of The Sex\")\n",
    "plt.xlabel(\"Sex\")\n",
    "plt.ylabel(\"Frequency\")\n",
    "plt.xticks(rotation=90);"
   ]
  },
  {
   "cell_type": "markdown",
   "id": "2f6196cf",
   "metadata": {},
   "source": [
    "      PLOT OF CATEGORICAL VARIABLE"
   ]
  },
  {
   "cell_type": "code",
   "execution_count": 96,
   "id": "d4e85b2a",
   "metadata": {},
   "outputs": [
    {
     "data": {
      "text/plain": [
       "count      244\n",
       "unique       2\n",
       "top       Male\n",
       "freq       157\n",
       "Name: sex, dtype: object"
      ]
     },
     "execution_count": 96,
     "metadata": {},
     "output_type": "execute_result"
    }
   ],
   "source": [
    "tips[\"sex\"].describe()   # To know the decriptive statistics of the colum \"sex\""
   ]
  },
  {
   "cell_type": "code",
   "execution_count": null,
   "id": "98b76e5b",
   "metadata": {},
   "outputs": [],
   "source": [
    "...\n",
    "Male customers (157) at this restaurant who are bills payers are more than the female customers. This could also mean the\n",
    "larger revenue is coming from the male gender. The male customers are also giving more tips than the female.\n",
    "..."
   ]
  },
  {
   "cell_type": "code",
   "execution_count": 97,
   "id": "0e7472ee",
   "metadata": {},
   "outputs": [
    {
     "data": {
      "text/plain": [
       "count    244.000000\n",
       "mean       2.569672\n",
       "std        0.951100\n",
       "min        1.000000\n",
       "25%        2.000000\n",
       "50%        2.000000\n",
       "75%        3.000000\n",
       "max        6.000000\n",
       "Name: size, dtype: float64"
      ]
     },
     "execution_count": 97,
     "metadata": {},
     "output_type": "execute_result"
    }
   ],
   "source": [
    "tips[\"size\"].describe()   # To know the decriptive statistics of the colum \"size\""
   ]
  },
  {
   "cell_type": "code",
   "execution_count": 11,
   "id": "9babd19b",
   "metadata": {},
   "outputs": [
    {
     "data": {
      "text/plain": [
       "Text(0, 0.5, 'Frequency')"
      ]
     },
     "execution_count": 11,
     "metadata": {},
     "output_type": "execute_result"
    },
    {
     "data": {
      "image/png": "[encoded data removed]",
      "text/plain": [
       "<Figure size 432x288 with 1 Axes>"
      ]
     },
     "metadata": {
      "needs_background": "light"
     },
     "output_type": "display_data"
    }
   ],
   "source": [
    "sns.boxplot(data = tips, x = \"size\");\n",
    "plt.title(\"Boxplot Of The Size - Number of the People\")\n",
    "plt.xlabel(\"Size\")\n",
    "plt.ylabel(\"Frequency\")\n"
   ]
  },
  {
   "cell_type": "markdown",
   "id": "e1e0708b",
   "metadata": {},
   "source": [
    "        PLOT OF NUMERICAL VARIABLE"
   ]
  },
  {
   "cell_type": "markdown",
   "id": "233613f4",
   "metadata": {},
   "source": [
    "# Insights from the boxplot od the Size"
   ]
  },
  {
   "cell_type": "code",
   "execution_count": null,
   "id": "1ccf2476",
   "metadata": {},
   "outputs": [],
   "source": [
    "...\n",
    "This distribution is skewed to the right, it is not a normal distribution as it has outliers - the maximum number is above\n",
    "the upper whisker. The lower whisker is at the minimum value of 1 and upper whisker at 4. 25% percentile is at 2 which\n",
    "means 25% of the customers at the table are between are or equal to 2 OR equal to 2. 75% upper quartile which means 75% of \n",
    "the people at the table are 3.\n",
    "50% of the people at the table are 2 and the remaining 75% are above 2. The average of people at the table is 2.6 (or 3 by\n",
    "approximation)."
   ]
  },
  {
   "cell_type": "code",
   "execution_count": 100,
   "id": "3add30e8",
   "metadata": {},
   "outputs": [
    {
     "data": {
      "text/plain": [
       "Text(0, 0.5, 'Frequency')"
      ]
     },
     "execution_count": 100,
     "metadata": {},
     "output_type": "execute_result"
    },
    {
     "data": {
      "image/png": "[encoded data removed]",
      "text/plain": [
       "<Figure size 432x288 with 1 Axes>"
      ]
     },
     "metadata": {
      "needs_background": "light"
     },
     "output_type": "display_data"
    }
   ],
   "source": [
    "sns.boxplot(data = tips, x = \"total_bill\")\n",
    "plt.title(\"Boxplot Of The Total-_bill\")\n",
    "plt.xlabel(\"Total_bill\")\n",
    "plt.ylabel(\"Frequency\")\n"
   ]
  },
  {
   "cell_type": "markdown",
   "id": "a71e038f",
   "metadata": {},
   "source": [
    "      PLOT OF NUMERICAL VARIABLE"
   ]
  },
  {
   "cell_type": "code",
   "execution_count": 107,
   "id": "711c2e16",
   "metadata": {},
   "outputs": [
    {
     "data": {
      "text/plain": [
       "count    244.000000\n",
       "mean      19.785943\n",
       "std        8.902412\n",
       "min        3.070000\n",
       "25%       13.347500\n",
       "50%       17.795000\n",
       "75%       24.127500\n",
       "max       50.810000\n",
       "Name: total_bill, dtype: float64"
      ]
     },
     "execution_count": 107,
     "metadata": {},
     "output_type": "execute_result"
    }
   ],
   "source": [
    "tips[\"total_bill\"].describe()   # To know the decriptive statistics of the colum \"total_bill\""
   ]
  },
  {
   "cell_type": "markdown",
   "id": "50daea8a",
   "metadata": {},
   "source": [
    "# Insights from the boxplot of total_bill"
   ]
  },
  {
   "cell_type": "code",
   "execution_count": null,
   "id": "4463d200",
   "metadata": {},
   "outputs": [],
   "source": [
    "...\n",
    "This is not a normal but a skewed distribution. It is skewed at the right hand. It has outliers. The maximum/highest bill paid\n",
    "in dollars is 50.8 while the lowest is $3.07 which is also the lower whisker. The upper whisker is at $40. 75% of the bills \n",
    "paid was $24.13 which represents the upper quartile while 25% percentile is at $13.34. 50% of the bill paid was $17.8 while the\n",
    "average is $19.79.\n",
    "..."
   ]
  },
  {
   "cell_type": "code",
   "execution_count": 102,
   "id": "d5cecf6a",
   "metadata": {},
   "outputs": [
    {
     "data": {
      "text/plain": [
       "Text(0, 0.5, 'Frequency')"
      ]
     },
     "execution_count": 102,
     "metadata": {},
     "output_type": "execute_result"
    },
    {
     "data": {
      "image/png": "[encoded data removed]",
      "text/plain": [
       "<Figure size 432x288 with 1 Axes>"
      ]
     },
     "metadata": {
      "needs_background": "light"
     },
     "output_type": "display_data"
    }
   ],
   "source": [
    "sns.boxplot(data = tips, x = \"tip\")\n",
    "plt.title(\"Boxplot Of The Tip\")\n",
    "plt.xlabel(\"Tip\")plt.ylabel(\"Frequency\")\n"
   ]
  },
  {
   "cell_type": "markdown",
   "id": "063dd7cc",
   "metadata": {},
   "source": [
    "       PLOT OF NUMERICAL VARIABLE"
   ]
  },
  {
   "cell_type": "code",
   "execution_count": 115,
   "id": "4cae1ad8",
   "metadata": {},
   "outputs": [
    {
     "data": {
      "text/plain": [
       "Text(0, 0.5, 'Frequency')"
      ]
     },
     "execution_count": 115,
     "metadata": {},
     "output_type": "execute_result"
    },
    {
     "data": {
      "image/png": "[encoded data removed]",
      "text/plain": [
       "<Figure size 432x288 with 1 Axes>"
      ]
     },
     "metadata": {
      "needs_background": "light"
     },
     "output_type": "display_data"
    }
   ],
   "source": [
    "sns.histplot(data = tips, x = \"tip\", kde=True)\n",
    "plt.title(\"Histogram Of The Tip\")\n",
    "plt.xlabel(\"Tip\")\n",
    "plt.ylabel(\"Frequency\")"
   ]
  },
  {
   "cell_type": "code",
   "execution_count": 108,
   "id": "a9738d54",
   "metadata": {},
   "outputs": [
    {
     "data": {
      "text/plain": [
       "count    244.000000\n",
       "mean       2.998279\n",
       "std        1.383638\n",
       "min        1.000000\n",
       "25%        2.000000\n",
       "50%        2.900000\n",
       "75%        3.562500\n",
       "max       10.000000\n",
       "Name: tip, dtype: float64"
      ]
     },
     "execution_count": 108,
     "metadata": {},
     "output_type": "execute_result"
    }
   ],
   "source": [
    "tips[\"tip\"].describe()    # To know the decriptive statistics of the colum \"tip\""
   ]
  },
  {
   "cell_type": "markdown",
   "id": "b53bbaa6",
   "metadata": {},
   "source": [
    "# Insights from the plots of the Tip"
   ]
  },
  {
   "cell_type": "code",
   "execution_count": null,
   "id": "3dc47db4",
   "metadata": {},
   "outputs": [],
   "source": [
    "\n",
    "The distribution is skewed to the right. It is not a normal distribution as it also has outliers. The maximum/highest tip \n",
    "collected was $10 and the lowest/minimum $1 which is also the lower whiskfer. The upper whisker is at $5.85.\n",
    "The distribution has an average tip of $3 (or $2.998) while the 50% of the tip collected was $2.9. \n",
    "$3.56 is the 75% of the tip collected which is the 75% percentile while $2 is the lower quartile which means 25% of the tip \n",
    "collected was less or equals to $2"
   ]
  },
  {
   "cell_type": "markdown",
   "id": "b8a45cac",
   "metadata": {},
   "source": [
    "BIVARIATE RELATIONSHIP AMONG THE NUMERICALVARIABLES\n"
   ]
  },
  {
   "cell_type": "code",
   "execution_count": 8,
   "id": "21a51a8e",
   "metadata": {},
   "outputs": [
    {
     "data": {
      "text/html": [
       "<div>\n",
       "<style scoped>\n",
       "    .dataframe tbody tr th:only-of-type {\n",
       "        vertical-align: middle;\n",
       "    }\n",
       "\n",
       "    .dataframe tbody tr th {\n",
       "        vertical-align: top;\n",
       "    }\n",
       "\n",
       "    .dataframe thead th {\n",
       "        text-align: right;\n",
       "    }\n",
       "</style>\n",
       "<table border=\"1\" class=\"dataframe\">\n",
       "  <thead>\n",
       "    <tr style=\"text-align: right;\">\n",
       "      <th></th>\n",
       "      <th>order_id</th>\n",
       "      <th>size</th>\n",
       "      <th>total_bill</th>\n",
       "      <th>tip</th>\n",
       "    </tr>\n",
       "  </thead>\n",
       "  <tbody>\n",
       "    <tr>\n",
       "      <th>order_id</th>\n",
       "      <td>1.000000</td>\n",
       "      <td>0.008061</td>\n",
       "      <td>0.044526</td>\n",
       "      <td>-0.026709</td>\n",
       "    </tr>\n",
       "    <tr>\n",
       "      <th>size</th>\n",
       "      <td>0.008061</td>\n",
       "      <td>1.000000</td>\n",
       "      <td>0.598315</td>\n",
       "      <td>0.489299</td>\n",
       "    </tr>\n",
       "    <tr>\n",
       "      <th>total_bill</th>\n",
       "      <td>0.044526</td>\n",
       "      <td>0.598315</td>\n",
       "      <td>1.000000</td>\n",
       "      <td>0.675734</td>\n",
       "    </tr>\n",
       "    <tr>\n",
       "      <th>tip</th>\n",
       "      <td>-0.026709</td>\n",
       "      <td>0.489299</td>\n",
       "      <td>0.675734</td>\n",
       "      <td>1.000000</td>\n",
       "    </tr>\n",
       "  </tbody>\n",
       "</table>\n",
       "</div>"
      ],
      "text/plain": [
       "            order_id      size  total_bill       tip\n",
       "order_id    1.000000  0.008061    0.044526 -0.026709\n",
       "size        0.008061  1.000000    0.598315  0.489299\n",
       "total_bill  0.044526  0.598315    1.000000  0.675734\n",
       "tip        -0.026709  0.489299    0.675734  1.000000"
      ]
     },
     "execution_count": 8,
     "metadata": {},
     "output_type": "execute_result"
    }
   ],
   "source": [
    "cor_mat= tips.corr()       # Calling our data and saving it in a new variable\n",
    "cor_mat"
   ]
  },
  {
   "cell_type": "code",
   "execution_count": 22,
   "id": "8541f8f1",
   "metadata": {},
   "outputs": [
    {
     "data": {
      "text/plain": [
       "Text(0.5, 1.0, 'Correlation Plot')"
      ]
     },
     "execution_count": 22,
     "metadata": {},
     "output_type": "execute_result"
    },
    {
     "data": {
      "image/png": "[encoded data removed]",
      "text/plain": [
       "<Figure size 864x504 with 2 Axes>"
      ]
     },
     "metadata": {
      "needs_background": "light"
     },
     "output_type": "display_data"
    }
   ],
   "source": [
    "plt.figure(figsize=(12,7))\n",
    "sns.heatmap(data =cor_mat, annot= True, vmin= -1, vmax=1, cmap= \"Spectral\");\n",
    "plt.title(\"Correlation Plot\")                                                #Heatmap to show relationships among the variables"
   ]
  },
  {
   "cell_type": "markdown",
   "id": "8e53f745",
   "metadata": {},
   "source": [
    "         CORRELATION PLOT"
   ]
  },
  {
   "cell_type": "markdown",
   "id": "d47f7128",
   "metadata": {},
   "source": [
    "Tip and total_bill are positively correlated at 0.68 (twice) as well as total_bill and size at 0.6 (twice).\n",
    "The size which represents the number of the people at the table, increases with the bill paid. This can be interpreted to\n",
    "mean the more people at the table at anytime, the more bills are paid.\n",
    "Also, the more bills are paid the more likelihood to drop tip to get quicker service, hence the positive correlation between\n",
    "the total_bill and the tip.\n",
    "Since none of them is highly positively correlated, I will not drop any of the variables."
   ]
  },
  {
   "cell_type": "code",
   "execution_count": 23,
   "id": "31c8711f",
   "metadata": {},
   "outputs": [
    {
     "data": {
      "text/plain": [
       "Text(10.049999999999997, 0.5, 'Total_bill')"
      ]
     },
     "execution_count": 23,
     "metadata": {},
     "output_type": "execute_result"
    },
    {
     "data": {
      "image/png": "[encoded data removed]",
      "text/plain": [
       "<Figure size 360x360 with 1 Axes>"
      ]
     },
     "metadata": {
      "needs_background": "light"
     },
     "output_type": "display_data"
    }
   ],
   "source": [
    "# CATEGORICAL PLOT TO SHOW CORRELATION BTW NUMERICAL AND CATEGORICAL VARIABLES\n",
    "\n",
    "sns.catplot(data = tips, x =\"day\", y = \"total_bill\", kind = \"box\" );\n",
    "plt.title(\"Categorical Plot of Numerical and Categorical Variables\")\n",
    "plt.xlabel(\"Day\")\n",
    "plt.ylabel(\"Total_bill\")"
   ]
  },
  {
   "cell_type": "markdown",
   "id": "392d37a3",
   "metadata": {},
   "source": [
    "     categorical Plot"
   ]
  },
  {
   "cell_type": "markdown",
   "id": "eb806209",
   "metadata": {},
   "source": [
    "They all show skewed distribution which means they all have outliers. The median of both Saturday and Sunday is almost the same.\n"
   ]
  },
  {
   "cell_type": "code",
   "execution_count": 28,
   "id": "2f20251c",
   "metadata": {},
   "outputs": [
    {
     "data": {
      "text/plain": [
       "Text(0, 0.5, 'Tip')"
      ]
     },
     "execution_count": 28,
     "metadata": {},
     "output_type": "execute_result"
    },
    {
     "data": {
      "image/png": "[encoded data removed]",
      "text/plain": [
       "<Figure size 432x288 with 1 Axes>"
      ]
     },
     "metadata": {
      "needs_background": "light"
     },
     "output_type": "display_data"
    }
   ],
   "source": [
    "# SCATTER PLOT\n",
    "\n",
    "sns.scatterplot(data= tips, x =\"total_bill\", y = \"tip\", hue =\"sex\");\n",
    "plt.title(\"Scatter Plot of 2 Numerical Variables & One Categorical Variable\")\n",
    "plt.xlabel(\"Total_bill\")\n",
    "plt.ylabel(\"Tip\")"
   ]
  },
  {
   "cell_type": "markdown",
   "id": "f8869ddb",
   "metadata": {},
   "source": [
    "    SCATTER PLOT SHOWING CORRELATION BETWEEN TWO NUMERICAL VARIABLES WITH ONE CATEGORICAL VARIABLE"
   ]
  },
  {
   "cell_type": "markdown",
   "id": "9428d605",
   "metadata": {},
   "source": [
    "# Insights from the scatter plot"
   ]
  },
  {
   "cell_type": "code",
   "execution_count": null,
   "id": "1aa0de7d",
   "metadata": {},
   "outputs": [],
   "source": [
    "There is a positive correlation betwwen the bill and the tip. As one increases, so the other. a linear graph can be obtained \n",
    "from the plot.\n",
    "At the maximum points of both bill and tip (50, 10) are the male customers, meaning male customers pay more bills and also give \n",
    "more tip."
   ]
  }
 ],
 "metadata": {
  "kernelspec": {
   "display_name": "Python 3 (ipykernel)",
   "language": "python",
   "name": "python3"
  },
  "language_info": {
   "codemirror_mode": {
    "name": "ipython",
    "version": 3
   },
   "file_extension": ".py",
   "mimetype": "text/x-python",
   "name": "python",
   "nbconvert_exporter": "python",
   "pygments_lexer": "ipython3",
   "version": "3.9.12"
  }
 },
 "nbformat": 4,
 "nbformat_minor": 5
}
